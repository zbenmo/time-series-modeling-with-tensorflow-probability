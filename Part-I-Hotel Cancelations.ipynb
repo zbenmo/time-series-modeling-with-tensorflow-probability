{
 "cells": [
  {
   "cell_type": "code",
   "execution_count": 1,
   "id": "indonesian-error",
   "metadata": {},
   "outputs": [],
   "source": [
    "import pandas as pd\n",
    "import matplotlib.pyplot as plt\n",
    "import matplotlib.dates as mdates\n",
    "from datetime import datetime"
   ]
  },
  {
   "cell_type": "code",
   "execution_count": 2,
   "id": "enabling-commission",
   "metadata": {},
   "outputs": [],
   "source": [
    "h1_df = pd.read_csv('data/H1.csv')"
   ]
  },
  {
   "cell_type": "code",
   "execution_count": 3,
   "id": "reverse-personal",
   "metadata": {},
   "outputs": [
    {
     "data": {
      "text/plain": [
       "(40060, 31)"
      ]
     },
     "execution_count": 3,
     "metadata": {},
     "output_type": "execute_result"
    }
   ],
   "source": [
    "h1_df.shape"
   ]
  },
  {
   "cell_type": "code",
   "execution_count": 4,
   "id": "mobile-frank",
   "metadata": {},
   "outputs": [
    {
     "data": {
      "text/html": [
       "<div>\n",
       "<style scoped>\n",
       "    .dataframe tbody tr th:only-of-type {\n",
       "        vertical-align: middle;\n",
       "    }\n",
       "\n",
       "    .dataframe tbody tr th {\n",
       "        vertical-align: top;\n",
       "    }\n",
       "\n",
       "    .dataframe thead th {\n",
       "        text-align: right;\n",
       "    }\n",
       "</style>\n",
       "<table border=\"1\" class=\"dataframe\">\n",
       "  <thead>\n",
       "    <tr style=\"text-align: right;\">\n",
       "      <th></th>\n",
       "      <th>IsCanceled</th>\n",
       "      <th>LeadTime</th>\n",
       "      <th>ArrivalDateYear</th>\n",
       "      <th>ArrivalDateMonth</th>\n",
       "      <th>ArrivalDateWeekNumber</th>\n",
       "      <th>ArrivalDateDayOfMonth</th>\n",
       "      <th>StaysInWeekendNights</th>\n",
       "      <th>StaysInWeekNights</th>\n",
       "      <th>Adults</th>\n",
       "      <th>Children</th>\n",
       "      <th>...</th>\n",
       "      <th>DepositType</th>\n",
       "      <th>Agent</th>\n",
       "      <th>Company</th>\n",
       "      <th>DaysInWaitingList</th>\n",
       "      <th>CustomerType</th>\n",
       "      <th>ADR</th>\n",
       "      <th>RequiredCarParkingSpaces</th>\n",
       "      <th>TotalOfSpecialRequests</th>\n",
       "      <th>ReservationStatus</th>\n",
       "      <th>ReservationStatusDate</th>\n",
       "    </tr>\n",
       "  </thead>\n",
       "  <tbody>\n",
       "    <tr>\n",
       "      <th>0</th>\n",
       "      <td>0</td>\n",
       "      <td>342</td>\n",
       "      <td>2015</td>\n",
       "      <td>July</td>\n",
       "      <td>27</td>\n",
       "      <td>1</td>\n",
       "      <td>0</td>\n",
       "      <td>0</td>\n",
       "      <td>2</td>\n",
       "      <td>0</td>\n",
       "      <td>...</td>\n",
       "      <td>No Deposit</td>\n",
       "      <td>NULL</td>\n",
       "      <td>NULL</td>\n",
       "      <td>0</td>\n",
       "      <td>Transient</td>\n",
       "      <td>0.0</td>\n",
       "      <td>0</td>\n",
       "      <td>0</td>\n",
       "      <td>Check-Out</td>\n",
       "      <td>2015-07-01</td>\n",
       "    </tr>\n",
       "    <tr>\n",
       "      <th>1</th>\n",
       "      <td>0</td>\n",
       "      <td>737</td>\n",
       "      <td>2015</td>\n",
       "      <td>July</td>\n",
       "      <td>27</td>\n",
       "      <td>1</td>\n",
       "      <td>0</td>\n",
       "      <td>0</td>\n",
       "      <td>2</td>\n",
       "      <td>0</td>\n",
       "      <td>...</td>\n",
       "      <td>No Deposit</td>\n",
       "      <td>NULL</td>\n",
       "      <td>NULL</td>\n",
       "      <td>0</td>\n",
       "      <td>Transient</td>\n",
       "      <td>0.0</td>\n",
       "      <td>0</td>\n",
       "      <td>0</td>\n",
       "      <td>Check-Out</td>\n",
       "      <td>2015-07-01</td>\n",
       "    </tr>\n",
       "    <tr>\n",
       "      <th>2</th>\n",
       "      <td>0</td>\n",
       "      <td>7</td>\n",
       "      <td>2015</td>\n",
       "      <td>July</td>\n",
       "      <td>27</td>\n",
       "      <td>1</td>\n",
       "      <td>0</td>\n",
       "      <td>1</td>\n",
       "      <td>1</td>\n",
       "      <td>0</td>\n",
       "      <td>...</td>\n",
       "      <td>No Deposit</td>\n",
       "      <td>NULL</td>\n",
       "      <td>NULL</td>\n",
       "      <td>0</td>\n",
       "      <td>Transient</td>\n",
       "      <td>75.0</td>\n",
       "      <td>0</td>\n",
       "      <td>0</td>\n",
       "      <td>Check-Out</td>\n",
       "      <td>2015-07-02</td>\n",
       "    </tr>\n",
       "    <tr>\n",
       "      <th>3</th>\n",
       "      <td>0</td>\n",
       "      <td>13</td>\n",
       "      <td>2015</td>\n",
       "      <td>July</td>\n",
       "      <td>27</td>\n",
       "      <td>1</td>\n",
       "      <td>0</td>\n",
       "      <td>1</td>\n",
       "      <td>1</td>\n",
       "      <td>0</td>\n",
       "      <td>...</td>\n",
       "      <td>No Deposit</td>\n",
       "      <td>304</td>\n",
       "      <td>NULL</td>\n",
       "      <td>0</td>\n",
       "      <td>Transient</td>\n",
       "      <td>75.0</td>\n",
       "      <td>0</td>\n",
       "      <td>0</td>\n",
       "      <td>Check-Out</td>\n",
       "      <td>2015-07-02</td>\n",
       "    </tr>\n",
       "    <tr>\n",
       "      <th>4</th>\n",
       "      <td>0</td>\n",
       "      <td>14</td>\n",
       "      <td>2015</td>\n",
       "      <td>July</td>\n",
       "      <td>27</td>\n",
       "      <td>1</td>\n",
       "      <td>0</td>\n",
       "      <td>2</td>\n",
       "      <td>2</td>\n",
       "      <td>0</td>\n",
       "      <td>...</td>\n",
       "      <td>No Deposit</td>\n",
       "      <td>240</td>\n",
       "      <td>NULL</td>\n",
       "      <td>0</td>\n",
       "      <td>Transient</td>\n",
       "      <td>98.0</td>\n",
       "      <td>0</td>\n",
       "      <td>1</td>\n",
       "      <td>Check-Out</td>\n",
       "      <td>2015-07-03</td>\n",
       "    </tr>\n",
       "  </tbody>\n",
       "</table>\n",
       "<p>5 rows × 31 columns</p>\n",
       "</div>"
      ],
      "text/plain": [
       "   IsCanceled  LeadTime  ArrivalDateYear ArrivalDateMonth  \\\n",
       "0           0       342             2015             July   \n",
       "1           0       737             2015             July   \n",
       "2           0         7             2015             July   \n",
       "3           0        13             2015             July   \n",
       "4           0        14             2015             July   \n",
       "\n",
       "   ArrivalDateWeekNumber  ArrivalDateDayOfMonth  StaysInWeekendNights  \\\n",
       "0                     27                      1                     0   \n",
       "1                     27                      1                     0   \n",
       "2                     27                      1                     0   \n",
       "3                     27                      1                     0   \n",
       "4                     27                      1                     0   \n",
       "\n",
       "   StaysInWeekNights  Adults  Children  ...      DepositType        Agent  \\\n",
       "0                  0       2         0  ...  No Deposit              NULL   \n",
       "1                  0       2         0  ...  No Deposit              NULL   \n",
       "2                  1       1         0  ...  No Deposit              NULL   \n",
       "3                  1       1         0  ...  No Deposit               304   \n",
       "4                  2       2         0  ...  No Deposit               240   \n",
       "\n",
       "       Company DaysInWaitingList CustomerType   ADR  RequiredCarParkingSpaces  \\\n",
       "0         NULL                 0    Transient   0.0                         0   \n",
       "1         NULL                 0    Transient   0.0                         0   \n",
       "2         NULL                 0    Transient  75.0                         0   \n",
       "3         NULL                 0    Transient  75.0                         0   \n",
       "4         NULL                 0    Transient  98.0                         0   \n",
       "\n",
       "   TotalOfSpecialRequests ReservationStatus ReservationStatusDate  \n",
       "0                       0         Check-Out            2015-07-01  \n",
       "1                       0         Check-Out            2015-07-01  \n",
       "2                       0         Check-Out            2015-07-02  \n",
       "3                       0         Check-Out            2015-07-02  \n",
       "4                       1         Check-Out            2015-07-03  \n",
       "\n",
       "[5 rows x 31 columns]"
      ]
     },
     "execution_count": 4,
     "metadata": {},
     "output_type": "execute_result"
    }
   ],
   "source": [
    "h1_df.head()"
   ]
  },
  {
   "cell_type": "code",
   "execution_count": 5,
   "id": "weighted-damage",
   "metadata": {},
   "outputs": [],
   "source": [
    "time_series_h1 = h1_df.groupby(['ArrivalDateYear', 'ArrivalDateWeekNumber']).agg(\n",
    "    count_total=('IsCanceled', 'count'),\n",
    "    count_canceled=('IsCanceled', 'sum'),\n",
    "    percent_canceled=('IsCanceled', 'mean')).reset_index()"
   ]
  },
  {
   "cell_type": "code",
   "execution_count": 6,
   "id": "different-claim",
   "metadata": {},
   "outputs": [
    {
     "data": {
      "text/html": [
       "<div>\n",
       "<style scoped>\n",
       "    .dataframe tbody tr th:only-of-type {\n",
       "        vertical-align: middle;\n",
       "    }\n",
       "\n",
       "    .dataframe tbody tr th {\n",
       "        vertical-align: top;\n",
       "    }\n",
       "\n",
       "    .dataframe thead th {\n",
       "        text-align: right;\n",
       "    }\n",
       "</style>\n",
       "<table border=\"1\" class=\"dataframe\">\n",
       "  <thead>\n",
       "    <tr style=\"text-align: right;\">\n",
       "      <th></th>\n",
       "      <th>ArrivalDateYear</th>\n",
       "      <th>ArrivalDateWeekNumber</th>\n",
       "      <th>count_total</th>\n",
       "      <th>count_canceled</th>\n",
       "      <th>percent_canceled</th>\n",
       "    </tr>\n",
       "  </thead>\n",
       "  <tbody>\n",
       "    <tr>\n",
       "      <th>0</th>\n",
       "      <td>2015</td>\n",
       "      <td>27</td>\n",
       "      <td>177</td>\n",
       "      <td>41</td>\n",
       "      <td>0.231638</td>\n",
       "    </tr>\n",
       "    <tr>\n",
       "      <th>1</th>\n",
       "      <td>2015</td>\n",
       "      <td>28</td>\n",
       "      <td>271</td>\n",
       "      <td>48</td>\n",
       "      <td>0.177122</td>\n",
       "    </tr>\n",
       "    <tr>\n",
       "      <th>2</th>\n",
       "      <td>2015</td>\n",
       "      <td>29</td>\n",
       "      <td>341</td>\n",
       "      <td>87</td>\n",
       "      <td>0.255132</td>\n",
       "    </tr>\n",
       "    <tr>\n",
       "      <th>3</th>\n",
       "      <td>2015</td>\n",
       "      <td>30</td>\n",
       "      <td>317</td>\n",
       "      <td>74</td>\n",
       "      <td>0.233438</td>\n",
       "    </tr>\n",
       "    <tr>\n",
       "      <th>4</th>\n",
       "      <td>2015</td>\n",
       "      <td>31</td>\n",
       "      <td>347</td>\n",
       "      <td>101</td>\n",
       "      <td>0.291066</td>\n",
       "    </tr>\n",
       "  </tbody>\n",
       "</table>\n",
       "</div>"
      ],
      "text/plain": [
       "   ArrivalDateYear  ArrivalDateWeekNumber  count_total  count_canceled  \\\n",
       "0             2015                     27          177              41   \n",
       "1             2015                     28          271              48   \n",
       "2             2015                     29          341              87   \n",
       "3             2015                     30          317              74   \n",
       "4             2015                     31          347             101   \n",
       "\n",
       "   percent_canceled  \n",
       "0          0.231638  \n",
       "1          0.177122  \n",
       "2          0.255132  \n",
       "3          0.233438  \n",
       "4          0.291066  "
      ]
     },
     "execution_count": 6,
     "metadata": {},
     "output_type": "execute_result"
    }
   ],
   "source": [
    "time_series_h1.head()"
   ]
  },
  {
   "cell_type": "code",
   "execution_count": 7,
   "id": "virgin-abraham",
   "metadata": {},
   "outputs": [
    {
     "name": "stdout",
     "output_type": "stream",
     "text": [
      "<class 'pandas.core.frame.DataFrame'>\n",
      "RangeIndex: 115 entries, 0 to 114\n",
      "Data columns (total 5 columns):\n",
      " #   Column                 Non-Null Count  Dtype  \n",
      "---  ------                 --------------  -----  \n",
      " 0   ArrivalDateYear        115 non-null    int64  \n",
      " 1   ArrivalDateWeekNumber  115 non-null    int64  \n",
      " 2   count_total            115 non-null    int64  \n",
      " 3   count_canceled         115 non-null    int64  \n",
      " 4   percent_canceled       115 non-null    float64\n",
      "dtypes: float64(1), int64(4)\n",
      "memory usage: 4.6 KB\n"
     ]
    }
   ],
   "source": [
    "time_series_h1.info()"
   ]
  },
  {
   "cell_type": "code",
   "execution_count": 8,
   "id": "rising-angel",
   "metadata": {},
   "outputs": [],
   "source": [
    "time_series_h1['ArrivalDate'] = time_series_h1.apply(lambda x: datetime.strptime('%dW%d Mon' % (x.ArrivalDateYear, x.ArrivalDateWeekNumber),\n",
    "                                                                                 '%YW%U %a'), axis=1)"
   ]
  },
  {
   "cell_type": "code",
   "execution_count": 9,
   "id": "abroad-scale",
   "metadata": {},
   "outputs": [
    {
     "data": {
      "text/html": [
       "<div>\n",
       "<style scoped>\n",
       "    .dataframe tbody tr th:only-of-type {\n",
       "        vertical-align: middle;\n",
       "    }\n",
       "\n",
       "    .dataframe tbody tr th {\n",
       "        vertical-align: top;\n",
       "    }\n",
       "\n",
       "    .dataframe thead th {\n",
       "        text-align: right;\n",
       "    }\n",
       "</style>\n",
       "<table border=\"1\" class=\"dataframe\">\n",
       "  <thead>\n",
       "    <tr style=\"text-align: right;\">\n",
       "      <th></th>\n",
       "      <th>ArrivalDateYear</th>\n",
       "      <th>ArrivalDateWeekNumber</th>\n",
       "      <th>count_total</th>\n",
       "      <th>count_canceled</th>\n",
       "      <th>percent_canceled</th>\n",
       "      <th>ArrivalDate</th>\n",
       "    </tr>\n",
       "  </thead>\n",
       "  <tbody>\n",
       "    <tr>\n",
       "      <th>0</th>\n",
       "      <td>2015</td>\n",
       "      <td>27</td>\n",
       "      <td>177</td>\n",
       "      <td>41</td>\n",
       "      <td>0.231638</td>\n",
       "      <td>2015-07-06</td>\n",
       "    </tr>\n",
       "    <tr>\n",
       "      <th>1</th>\n",
       "      <td>2015</td>\n",
       "      <td>28</td>\n",
       "      <td>271</td>\n",
       "      <td>48</td>\n",
       "      <td>0.177122</td>\n",
       "      <td>2015-07-13</td>\n",
       "    </tr>\n",
       "    <tr>\n",
       "      <th>2</th>\n",
       "      <td>2015</td>\n",
       "      <td>29</td>\n",
       "      <td>341</td>\n",
       "      <td>87</td>\n",
       "      <td>0.255132</td>\n",
       "      <td>2015-07-20</td>\n",
       "    </tr>\n",
       "    <tr>\n",
       "      <th>3</th>\n",
       "      <td>2015</td>\n",
       "      <td>30</td>\n",
       "      <td>317</td>\n",
       "      <td>74</td>\n",
       "      <td>0.233438</td>\n",
       "      <td>2015-07-27</td>\n",
       "    </tr>\n",
       "    <tr>\n",
       "      <th>4</th>\n",
       "      <td>2015</td>\n",
       "      <td>31</td>\n",
       "      <td>347</td>\n",
       "      <td>101</td>\n",
       "      <td>0.291066</td>\n",
       "      <td>2015-08-03</td>\n",
       "    </tr>\n",
       "  </tbody>\n",
       "</table>\n",
       "</div>"
      ],
      "text/plain": [
       "   ArrivalDateYear  ArrivalDateWeekNumber  count_total  count_canceled  \\\n",
       "0             2015                     27          177              41   \n",
       "1             2015                     28          271              48   \n",
       "2             2015                     29          341              87   \n",
       "3             2015                     30          317              74   \n",
       "4             2015                     31          347             101   \n",
       "\n",
       "   percent_canceled ArrivalDate  \n",
       "0          0.231638  2015-07-06  \n",
       "1          0.177122  2015-07-13  \n",
       "2          0.255132  2015-07-20  \n",
       "3          0.233438  2015-07-27  \n",
       "4          0.291066  2015-08-03  "
      ]
     },
     "execution_count": 9,
     "metadata": {},
     "output_type": "execute_result"
    }
   ],
   "source": [
    "time_series_h1.head()"
   ]
  },
  {
   "cell_type": "code",
   "execution_count": 10,
   "id": "offshore-memorabilia",
   "metadata": {},
   "outputs": [
    {
     "data": {
      "image/png": "[encoded data removed]",
      "text/plain": [
       "<Figure size 864x432 with 1 Axes>"
      ]
     },
     "metadata": {
      "needs_background": "light"
     },
     "output_type": "display_data"
    }
   ],
   "source": [
    "# plt.plot()\n",
    "fig = plt.figure(figsize=(12, 6))\n",
    "ax = fig.add_subplot(1, 1, 1)\n",
    "ax.plot(time_series_h1['ArrivalDate'], time_series_h1['count_total'], lw=2, label=\"reservations\")\n",
    "ax.plot(time_series_h1['ArrivalDate'], time_series_h1['count_canceled'], lw=2, label=\"cancelations\")\n",
    "ax.bar(time_series_h1['ArrivalDate'], time_series_h1['percent_canceled'] * 100, lw=2, color='r', label=\"percent canceled (x100)\")\n",
    "ax.axhline(20, color='g', linestyle=\"--\", label='20%')\n",
    "year_loc = mdates.MonthLocator(interval=3)\n",
    "year_fmt = mdates.DateFormatter('%Y-%m')\n",
    "ax.xaxis.set_major_locator(year_loc)\n",
    "ax.xaxis.set_major_formatter(year_fmt)\n",
    "plt.legend()\n",
    "plt.title('number of cancelations by week');"
   ]
  },
  {
   "cell_type": "code",
   "execution_count": 11,
   "id": "fatty-belfast",
   "metadata": {},
   "outputs": [],
   "source": [
    "import numpy as np\n",
    "import tensorflow.compat.v2 as tf\n",
    "import tensorflow_probability as tfp\n",
    "\n",
    "from tensorflow_probability import distributions as tfd\n",
    "from tensorflow_probability import sts\n",
    "\n",
    "tf.enable_v2_behavior()"
   ]
  },
  {
   "cell_type": "code",
   "execution_count": 12,
   "id": "unlike-wednesday",
   "metadata": {},
   "outputs": [],
   "source": [
    "def build_model(observed_time_series):\n",
    "  trend = sts.LocalLinearTrend(observed_time_series=observed_time_series)\n",
    "  seasonal = tfp.sts.Seasonal(\n",
    "      num_seasons=53, observed_time_series=observed_time_series)\n",
    "  model = sts.Sum([trend, seasonal], observed_time_series=observed_time_series)\n",
    "  return model"
   ]
  },
  {
   "cell_type": "code",
   "execution_count": 14,
   "id": "lesser-insider",
   "metadata": {},
   "outputs": [],
   "source": [
    "time_series_h1['count_canceled'] = time_series_h1['count_canceled'].astype(np.float32)"
   ]
  },
  {
   "cell_type": "code",
   "execution_count": 15,
   "id": "resident-pakistan",
   "metadata": {},
   "outputs": [
    {
     "name": "stdout",
     "output_type": "stream",
     "text": [
      "WARNING:tensorflow:From C:\\Users\\zbenm\\AppData\\Roaming\\Python\\Python38\\site-packages\\tensorflow\\python\\ops\\linalg\\linear_operator_composition.py:181: LinearOperator.graph_parents (from tensorflow.python.ops.linalg.linear_operator) is deprecated and will be removed in a future version.\n",
      "Instructions for updating:\n",
      "Do not call `graph_parents`.\n",
      "WARNING:tensorflow:From C:\\Users\\zbenm\\miniconda3\\envs\\manning_ts_tfp\\lib\\site-packages\\tensorflow_probability\\python\\distributions\\distribution.py:298: MultivariateNormalFullCovariance.__init__ (from tensorflow_probability.python.distributions.mvn_full_covariance) is deprecated and will be removed after 2019-12-01.\n",
      "Instructions for updating:\n",
      "`MultivariateNormalFullCovariance` is deprecated, use `MultivariateNormalTriL(loc=loc, scale_tril=tf.linalg.cholesky(covariance_matrix))` instead.\n"
     ]
    }
   ],
   "source": [
    "cancellation_model = build_model(time_series_h1['count_canceled']) # co2_by_month_training_data)\n",
    "\n",
    "# Build the variational surrogate posteriors `qs`.\n",
    "variational_posteriors = tfp.sts.build_factored_surrogate_posterior(\n",
    "    model=cancellation_model)"
   ]
  },
  {
   "cell_type": "code",
   "execution_count": 18,
   "id": "adjacent-haven",
   "metadata": {},
   "outputs": [
    {
     "name": "stdout",
     "output_type": "stream",
     "text": [
      "WARNING:tensorflow:From C:\\Users\\zbenm\\AppData\\Roaming\\Python\\Python38\\site-packages\\tensorflow\\python\\ops\\linalg\\linear_operator_diag.py:167: calling LinearOperator.__init__ (from tensorflow.python.ops.linalg.linear_operator) with graph_parents is deprecated and will be removed in a future version.\n",
      "Instructions for updating:\n",
      "Do not pass `graph_parents`.  They will  no longer be used.\n"
     ]
    },
    {
     "data": {
      "image/png": "[encoded data removed]",
      "text/plain": [
       "<Figure size 432x288 with 1 Axes>"
      ]
     },
     "metadata": {
      "needs_background": "light"
     },
     "output_type": "display_data"
    }
   ],
   "source": [
    "#@title Minimize the variational loss.\n",
    "\n",
    "train_data = time_series_h1['count_canceled']\n",
    "\n",
    "# Allow external control of optimization to reduce test runtimes.\n",
    "num_variational_steps = 200 # @param { isTemplate: true}\n",
    "num_variational_steps = int(num_variational_steps)\n",
    "\n",
    "optimizer = tf.optimizers.Adam(learning_rate=.1)\n",
    "# Using fit_surrogate_posterior to build and optimize the variational loss function.\n",
    "@tf.function(experimental_compile=True)\n",
    "def train():\n",
    "  elbo_loss_curve = tfp.vi.fit_surrogate_posterior(\n",
    "    target_log_prob_fn=cancellation_model.joint_log_prob(\n",
    "        observed_time_series=train_data),\n",
    "    surrogate_posterior=variational_posteriors,\n",
    "    optimizer=optimizer,\n",
    "    num_steps=num_variational_steps)\n",
    "  return elbo_loss_curve\n",
    "\n",
    "elbo_loss_curve = train()\n",
    "\n",
    "plt.plot(elbo_loss_curve)\n",
    "plt.show()\n",
    "\n",
    "# Draw samples from the variational posterior.\n",
    "q_samples_co2_ = variational_posteriors.sample(50)"
   ]
  },
  {
   "cell_type": "code",
   "execution_count": null,
   "id": "equivalent-tennis",
   "metadata": {},
   "outputs": [],
   "source": []
  }
 ],
 "metadata": {
  "kernelspec": {
   "display_name": "Python 3",
   "language": "python",
   "name": "python3"
  },
  "language_info": {
   "codemirror_mode": {
    "name": "ipython",
    "version": 3
   },
   "file_extension": ".py",
   "mimetype": "text/x-python",
   "name": "python",
   "nbconvert_exporter": "python",
   "pygments_lexer": "ipython3",
   "version": "3.8.5"
  }
 },
 "nbformat": 4,
 "nbformat_minor": 5
}
